{
 "cells": [
  {
   "cell_type": "code",
   "execution_count": 1,
   "metadata": {},
   "outputs": [],
   "source": [
    "import numpy as np\n",
    "import pandas as pd\n",
    "import processi_EMGIT as em\n",
    "import stochastic as st\n",
    "import matplotlib.pyplot as plt\n",
    "from statsmodels.tsa.stattools import acf, pacf,adfuller\n",
    "from statsmodels.graphics.tsaplots import plot_acf, plot_pacf\n",
    "%matplotlib inline"
   ]
  },
  {
   "cell_type": "code",
   "execution_count": 502,
   "metadata": {},
   "outputs": [],
   "source": [
    "s=em.gbm_mod(100,1,23400)\n",
    "r2=em.calcolaRendimenti(s[0],len(s[0]))\n",
    "f=em.realVol(r2,1,23400)"
   ]
  },
  {
   "cell_type": "code",
   "execution_count": 546,
   "metadata": {},
   "outputs": [],
   "source": [
    "def calcW(f,K,p):\n",
    "    diff=np.zeros(len(f))\n",
    "    w   =np.zeros(int(len(f)/K)+1)\n",
    "    num =np.zeros(int(len(f)/K)+1)\n",
    "    den =np.zeros(int(len(f)/K)+1)\n",
    "    iter=K\n",
    "    iter2=0\n",
    "    for j in range(1,len(diff)):\n",
    "        diff[j-1]=abs(f[j]-f[j-1])#np.log(f[j]/f[j-1]))\n",
    "    for i in range(len(diff)):\n",
    "        if (iter>=len(diff)):\n",
    "            iter=iter-(iter-len(diff))-1\n",
    "        else :\n",
    "            iter=iter\n",
    "        num[i]=abs(f[iter]-f[iter2])**p*(iter-iter2) #np.log(f[iter]/f[iter2])\n",
    "        den[i]=sum(diff[iter2:iter])**p\n",
    "        w[i]  = (num[i]/den[i])\n",
    "        iter2=iter\n",
    "        iter+=K\n",
    "        if iter2==(len(diff)-1):\n",
    "            return sum(w)\n",
    "    return sum(w)"
   ]
  },
  {
   "cell_type": "code",
   "execution_count": 183,
   "metadata": {},
   "outputs": [],
   "source": [
    "def W_1(s,T,K,p):\n",
    "    W    =np.zeros(np.int64(T/K))\n",
    "    num  =np.zeros(np.int64(T/K))\n",
    "    den  =np.zeros(np.int64(T/K))\n",
    "    diff =np.zeros(len(s))\n",
    "    iter1=0\n",
    "    iter2=K\n",
    "    for j in range(1,len(diff)):\n",
    "        diff[j-1]= abs(s[j]-s[j-1])\n",
    "    for i in range(1,len(W)):\n",
    "        num[i] =np.abs(s[iter2]-s[iter1])**p\n",
    "        den[i] =sum(diff[iter1:iter2]**p)\n",
    "        W[i]   =(num[i]/den[i])*(iter2-iter1)\n",
    "        iter1=iter2\n",
    "        iter2+=K\n",
    "    return sum(W)"
   ]
  },
  {
   "cell_type": "code",
   "execution_count": null,
   "metadata": {},
   "outputs": [],
   "source": [
    "np.log(f[0])-np.log(f[300])"
   ]
  },
  {
   "cell_type": "code",
   "execution_count": null,
   "metadata": {},
   "outputs": [],
   "source": [
    "W_1(s[1],23399,300,1.9)"
   ]
  },
  {
   "cell_type": "code",
   "execution_count": 592,
   "metadata": {},
   "outputs": [
    {
     "data": {
      "text/plain": [
       "4.982398849070368"
      ]
     },
     "execution_count": 592,
     "metadata": {},
     "output_type": "execute_result"
    }
   ],
   "source": [
    "a=s[1]\n",
    "np.log(calcW(a,300,2))#2.51#6.267 a 300   ##########1.49"
   ]
  },
  {
   "cell_type": "code",
   "execution_count": null,
   "metadata": {},
   "outputs": [],
   "source": [
    "K=50\n",
    "num=[]\n",
    "den=[0,0,0]\n",
    "diff=[0]*99\n",
    "num.append(abs(f[0]-f[33] )**3 )\n",
    "num.append(abs(f[33]-f[66])**3 )\n",
    "num.append(abs(f[66]-f[98])**3 )\n",
    "\n",
    "sum(num)\n",
    "for i in range(1,len(diff)):\n",
    "    diff[i-1]=abs(f[i]-f[i-1])**3\n",
    "den[0]=sum(diff[0:33] )\n",
    "den[1]=sum(diff[33:66])\n",
    "den[2]=sum(diff[66:99])\n",
    "(num[0]/den[0])*33+(num[1]/den[1])*33+(num[1]/den[1])*32\n"
   ]
  },
  {
   "cell_type": "code",
   "execution_count": null,
   "metadata": {},
   "outputs": [
    {
     "data": {
      "text/plain": [
       "1.3945435929573127"
      ]
     },
     "execution_count": 68,
     "metadata": {},
     "output_type": "execute_result"
    }
   ],
   "source": [
    "K=50\n",
    "num=[]\n",
    "den=[0,0,0]\n",
    "diff=[0]*99\n",
    "num.append(abs(f[0]-f[33] )**1.5 )\n",
    "num.append(abs(f[33]-f[66])**1.5 )\n",
    "num.append(abs(f[66]-f[98])**1.5)\n",
    "\n",
    "sum(num)\n",
    "for i in range(1,len(diff)):\n",
    "    diff[i-1]=abs(f[i]-f[i-1])**1.5\n",
    "den[0]=sum(diff[0:33] )\n",
    "den[1]=sum(diff[33:66])\n",
    "den[2]=sum(diff[66:99])\n",
    "(num[0]/den[0])*33+(num[1]/den[1])*33+(num[1]/den[1])*32"
   ]
  }
 ],
 "metadata": {
  "interpreter": {
   "hash": "597e2b791014bf3f975e304e1e72922cb6b9245e0453d34e2c818a7120fc527f"
  },
  "kernelspec": {
   "display_name": "Python 3.9.7 ('base')",
   "language": "python",
   "name": "python3"
  },
  "language_info": {
   "codemirror_mode": {
    "name": "ipython",
    "version": 3
   },
   "file_extension": ".py",
   "mimetype": "text/x-python",
   "name": "python",
   "nbconvert_exporter": "python",
   "pygments_lexer": "ipython3",
   "version": "3.9.7"
  },
  "orig_nbformat": 4
 },
 "nbformat": 4,
 "nbformat_minor": 2
}
