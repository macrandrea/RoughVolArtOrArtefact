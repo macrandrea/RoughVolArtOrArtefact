{
 "cells": [
  {
   "cell_type": "code",
   "execution_count": 10,
   "metadata": {},
   "outputs": [],
   "source": [
    "import numpy as np\n",
    "import pandas as pd\n",
    "import processi_EMGIT as em\n",
    "import stochastic as st\n",
    "import matplotlib.pyplot as plt\n",
    "import pandas_datareader.data as web\n",
    "\n",
    "%matplotlib inline"
   ]
  },
  {
   "cell_type": "code",
   "execution_count": 11,
   "metadata": {},
   "outputs": [],
   "source": [
    "df = pd.read_excel('oxmanspx.xlsx', index_col=0, header=0)\n",
    "RV=df['rv5_ss']\n",
    "sq = lambda a: np.sqrt(a)\n",
    "rv=sq(pd.Series.to_list(RV[0:4900]))\n",
    "#rv=[]\n",
    "#rv.append(RV['rv10_ss'])\n",
    "#rr=RV.iloc[2253:2504]\n",
    "rr2000=sq(pd.Series.to_list(RV[0:251]))\n",
    "rr2001=sq(pd.Series.to_list(RV[252:501]))\n",
    "rr2002=sq(pd.Series.to_list(RV[502:753]))\n",
    "rr2008=sq(pd.Series.to_list(RV[2000:2252]))\n",
    "rr2009=sq(pd.Series.to_list(RV[2253:2504]))\n",
    "rr2010=sq(pd.Series.to_list(RV[2505:2756]))\n",
    "rr2020=sq(pd.Series.to_list(RV[5017:5264]))\n",
    "rr16=sq(pd.Series.to_list(RV[4015:5264]))#4015\n",
    "#rv.plot()\n",
    "#plt.show()"
   ]
  },
  {
   "cell_type": "code",
   "execution_count": 32,
   "metadata": {},
   "outputs": [
    {
     "data": {
      "text/html": [
       "<div>\n",
       "<style scoped>\n",
       "    .dataframe tbody tr th:only-of-type {\n",
       "        vertical-align: middle;\n",
       "    }\n",
       "\n",
       "    .dataframe tbody tr th {\n",
       "        vertical-align: top;\n",
       "    }\n",
       "\n",
       "    .dataframe thead th {\n",
       "        text-align: right;\n",
       "    }\n",
       "</style>\n",
       "<table border=\"1\" class=\"dataframe\">\n",
       "  <thead>\n",
       "    <tr style=\"text-align: right;\">\n",
       "      <th></th>\n",
       "      <th>W()_sigOU</th>\n",
       "    </tr>\n",
       "  </thead>\n",
       "  <tbody>\n",
       "    <tr>\n",
       "      <th>1.0</th>\n",
       "      <td>0.000082</td>\n",
       "    </tr>\n",
       "  </tbody>\n",
       "</table>\n",
       "</div>"
      ],
      "text/plain": [
       "     W()_sigOU\n",
       "1.0   0.000082"
      ]
     },
     "execution_count": 32,
     "metadata": {},
     "output_type": "execute_result"
    }
   ],
   "source": [
    "L=252\n",
    "P=np.linspace(1,15,100)\n",
    "w=np.zeros(len(P))\n",
    "for p in range(len(P)):\n",
    "    w[p]=np.linalg.norm(em.calcW(rr16,L,P[p]))**2#x6[1]\n",
    "min(w)\n",
    "#\n",
    "H=[]\n",
    "for p in range(len(P)):\n",
    "    H.append(1/P[p])\n",
    "datasigOU=pd.DataFrame(w,index=P,columns=['W()_sigOU'])\n",
    "datasigOU[ datasigOU['W()_sigOU'] == min(w) ]"
   ]
  },
  {
   "cell_type": "code",
   "execution_count": 33,
   "metadata": {},
   "outputs": [
    {
     "data": {
      "image/png": "[encoded data removed]",
      "text/plain": [
       "<Figure size 432x288 with 1 Axes>"
      ]
     },
     "metadata": {
      "needs_background": "light"
     },
     "output_type": "display_data"
    }
   ],
   "source": [
    "#dal 2016 al 2020 con num e den invertiti\n",
    "plt.semilogy(H,w,'r')\n",
    "plt.xlabel('H=1/p')\n",
    "plt.ylabel('log(W(\\sigma_t,T,L,K,\\pi))')\n",
    "#plt.annotate('Expected', xy=(0.5, 0), xytext=(0.5, 1.5))#,arrowprops=dict(facecolor='black', shrink=0.05))\n",
    "#plt.annotate('Cont-Das', xy=(0.56, 0), xytext=(0.56, 1))\n",
    "#plt.annotate('Our', xy=(0.4851486301343279, 0), xytext=(0.4851486301343279, 1))\n",
    "plt.title('Hurst for SPX at 5 second realized volatility from 2016 to 2022: 1y parsing \\n H=0.164, p=6.65 with K=1y')\n",
    "plt.grid(True)\n",
    "plt.xlim(0.05,0.6)\n",
    "plt.axvline(x=1/6.656566\t, ymin=0.0, ymax=7)\n",
    "plt.axhline(y=1)\n",
    "plt.show()"
   ]
  },
  {
   "cell_type": "code",
   "execution_count": 5,
   "metadata": {},
   "outputs": [
    {
     "data": {
      "text/html": [
       "<div>\n",
       "<style scoped>\n",
       "    .dataframe tbody tr th:only-of-type {\n",
       "        vertical-align: middle;\n",
       "    }\n",
       "\n",
       "    .dataframe tbody tr th {\n",
       "        vertical-align: top;\n",
       "    }\n",
       "\n",
       "    .dataframe thead th {\n",
       "        text-align: right;\n",
       "    }\n",
       "</style>\n",
       "<table border=\"1\" class=\"dataframe\">\n",
       "  <thead>\n",
       "    <tr style=\"text-align: right;\">\n",
       "      <th></th>\n",
       "      <th>W()_sigOU</th>\n",
       "    </tr>\n",
       "  </thead>\n",
       "  <tbody>\n",
       "    <tr>\n",
       "      <th>1.0</th>\n",
       "      <td>4.367925e-07</td>\n",
       "    </tr>\n",
       "  </tbody>\n",
       "</table>\n",
       "</div>"
      ],
      "text/plain": [
       "        W()_sigOU\n",
       "1.0  4.367925e-07"
      ]
     },
     "execution_count": 5,
     "metadata": {},
     "output_type": "execute_result"
    }
   ],
   "source": [
    "L=90\n",
    "P=np.linspace(1,15,100)\n",
    "w=np.zeros(len(P))\n",
    "for p in range(len(P)):\n",
    "    w[p]=np.linalg.norm(em.W_1(rr2009,len(rr2009),L,P[p]))**2#x6[1]\n",
    "min(w)\n",
    "#\n",
    "H=[]\n",
    "for p in range(len(P)):\n",
    "    H.append(1/P[p])\n",
    "datasigOU=pd.DataFrame(w,index=P,columns=['W()_sigOU'])\n",
    "datasigOU[ datasigOU['W()_sigOU'] == min(w) ]"
   ]
  },
  {
   "cell_type": "code",
   "execution_count": null,
   "metadata": {},
   "outputs": [],
   "source": [
    "L=70\n",
    "P=np.linspace(1,15,100)\n",
    "w=np.zeros(len(P))\n",
    "for p in range(len(P)):\n",
    "    w[p]=np.linalg.norm(em.calcW(rr,L,P[p]))**2#x6[1]\n",
    "min(w)\n",
    "#\n",
    "H=[]\n",
    "for p in range(len(P)):\n",
    "    H.append(1/P[p])\n",
    "datasigOU=pd.DataFrame(w,index=P,columns=['W()_sigOU'])\n",
    "datasigOU[ datasigOU['W()_sigOU'] == min(w) ]"
   ]
  },
  {
   "cell_type": "code",
   "execution_count": null,
   "metadata": {},
   "outputs": [],
   "source": [
    "plt.semilogy(H,w,'r')\n",
    "plt.xlabel('H=1/p')\n",
    "plt.ylabel('log(||W(\\sigma_t,T,L,K,\\pi)-1||_^2-1)')\n",
    "plt.annotate('Expected', xy=(0.5, 0), xytext=(0.5, 1.5))#,arrowprops=dict(facecolor='black', shrink=0.05))\n",
    "plt.annotate('Cont-Das', xy=(0.56, 0), xytext=(0.56, 1))\n",
    "#plt.annotate('Our', xy=(0.4851486301343279, 0), xytext=(0.4851486301343279, 1))\n",
    "plt.title('Hurst for SPX at 5 second realized volatility: Series for 2009 \\n H=0.164, p=6.09 with K=90')\n",
    "plt.grid(True)\n",
    "plt.xlim(0.05,0.6)\n",
    "plt.axvline(x=1/6.090909, ymin=0.0, ymax=7)\n",
    "plt.axhline(y=1)\n",
    "plt.show()"
   ]
  },
  {
   "cell_type": "markdown",
   "metadata": {},
   "source": [
    "cazzate varie\n",
    "==========================\n",
    "\n",
    "fai la stessa cosa per diversi indici e annate e poi ci siamo"
   ]
  },
  {
   "cell_type": "code",
   "execution_count": 38,
   "metadata": {},
   "outputs": [],
   "source": [
    "df = pd.read_excel('oxmanftsemib.xlsx', index_col=0, header=0)\n",
    "RV=df['rv5_ss']\n",
    "sq = lambda a: np.sqrt(a)\n",
    "rv=sq(pd.Series.to_list(RV[0:3298]))\n",
    "rr16=sq(pd.Series.to_list(RV[1676:2938]))\n",
    "\n"
   ]
  },
  {
   "cell_type": "code",
   "execution_count": 66,
   "metadata": {},
   "outputs": [
    {
     "data": {
      "text/html": [
       "<div>\n",
       "<style scoped>\n",
       "    .dataframe tbody tr th:only-of-type {\n",
       "        vertical-align: middle;\n",
       "    }\n",
       "\n",
       "    .dataframe tbody tr th {\n",
       "        vertical-align: top;\n",
       "    }\n",
       "\n",
       "    .dataframe thead th {\n",
       "        text-align: right;\n",
       "    }\n",
       "</style>\n",
       "<table border=\"1\" class=\"dataframe\">\n",
       "  <thead>\n",
       "    <tr style=\"text-align: right;\">\n",
       "      <th></th>\n",
       "      <th>W()_sigOU</th>\n",
       "    </tr>\n",
       "  </thead>\n",
       "  <tbody>\n",
       "    <tr>\n",
       "      <th>1.0</th>\n",
       "      <td>0.000174</td>\n",
       "    </tr>\n",
       "  </tbody>\n",
       "</table>\n",
       "</div>"
      ],
      "text/plain": [
       "     W()_sigOU\n",
       "1.0   0.000174"
      ]
     },
     "execution_count": 66,
     "metadata": {},
     "output_type": "execute_result"
    }
   ],
   "source": [
    "L=252\n",
    "P=np.linspace(1,15,100)\n",
    "w=np.zeros(len(P))\n",
    "for p in range(len(P)):\n",
    "    w[p]=np.linalg.norm(em.calcW(rv,L,P[p]))**2#x6[1]\n",
    "min(w)\n",
    "#\n",
    "H=[]\n",
    "for p in range(len(P)):\n",
    "    H.append(1/P[p])\n",
    "datasigOU=pd.DataFrame(w,index=P,columns=['W()_sigOU'])\n",
    "datasigOU[ datasigOU['W()_sigOU'] == min(w) ]"
   ]
  },
  {
   "cell_type": "code",
   "execution_count": 24,
   "metadata": {},
   "outputs": [
    {
     "data": {
      "text/html": [
       "<div>\n",
       "<style scoped>\n",
       "    .dataframe tbody tr th:only-of-type {\n",
       "        vertical-align: middle;\n",
       "    }\n",
       "\n",
       "    .dataframe tbody tr th {\n",
       "        vertical-align: top;\n",
       "    }\n",
       "\n",
       "    .dataframe thead th {\n",
       "        text-align: right;\n",
       "    }\n",
       "</style>\n",
       "<table border=\"1\" class=\"dataframe\">\n",
       "  <thead>\n",
       "    <tr style=\"text-align: right;\">\n",
       "      <th></th>\n",
       "      <th>W()_sigOU</th>\n",
       "    </tr>\n",
       "  </thead>\n",
       "  <tbody>\n",
       "    <tr>\n",
       "      <th>1.0</th>\n",
       "      <td>0.992793</td>\n",
       "    </tr>\n",
       "  </tbody>\n",
       "</table>\n",
       "</div>"
      ],
      "text/plain": [
       "     W()_sigOU\n",
       "1.0   0.992793"
      ]
     },
     "execution_count": 24,
     "metadata": {},
     "output_type": "execute_result"
    }
   ],
   "source": [
    "\n",
    "L=90#len(rv)\n",
    "P=np.linspace(1,15,100)\n",
    "w=np.zeros(len(P))\n",
    "for p in range(len(P)):\n",
    "    w[p]=np.linalg.norm(em.calcW(rr2020,L,P[p])-1)**2#x6[1]\n",
    "min(w)\n",
    "#\n",
    "H=[]\n",
    "for p in range(len(P)):\n",
    "    H.append(1/P[p])\n",
    "datasigOU=pd.DataFrame(w,index=P,columns=['W()_sigOU'])\n",
    "datasigOU[ datasigOU['W()_sigOU'] == min(w) ]\n"
   ]
  },
  {
   "cell_type": "code",
   "execution_count": 67,
   "metadata": {},
   "outputs": [
    {
     "data": {
      "image/png": "[encoded data removed]",
      "text/plain": [
       "<Figure size 432x288 with 1 Axes>"
      ]
     },
     "metadata": {
      "needs_background": "light"
     },
     "output_type": "display_data"
    }
   ],
   "source": [
    "plt.semilogy(H,w,'r')\n",
    "plt.xlabel('H=1/p')\n",
    "plt.ylabel('log(W(\\sigma_t,T,L,K,\\pi))')\n",
    "plt.annotate('Expected', xy=(0.5, 0), xytext=(0.5, 1.5))#,arrowprops=dict(facecolor='black', shrink=0.05))\n",
    "plt.annotate('Cont-Das', xy=(0.56, 0), xytext=(0.56, 1))\n",
    "#plt.annotate('Our', xy=(0.4851486301343279, 0), xytext=(0.4851486301343279, 1))\n",
    "plt.title('Hurst for FTSE MiB at 5 second realized volatility: Series from 2000/2022 \\n H=0.22, p=4.535354 with K=1y')\n",
    "plt.grid(True)\n",
    "#plt.xlim(0.05,0.6)\n",
    "plt.axvline(x=1/4.535354, ymin=0.0, ymax=7)\n",
    "plt.axhline(y=1)\n",
    "plt.show()"
   ]
  },
  {
   "cell_type": "code",
   "execution_count": null,
   "metadata": {},
   "outputs": [
    {
     "data": {
      "text/html": [
       "<div>\n",
       "<style scoped>\n",
       "    .dataframe tbody tr th:only-of-type {\n",
       "        vertical-align: middle;\n",
       "    }\n",
       "\n",
       "    .dataframe tbody tr th {\n",
       "        vertical-align: top;\n",
       "    }\n",
       "\n",
       "    .dataframe thead th {\n",
       "        text-align: right;\n",
       "    }\n",
       "</style>\n",
       "<table border=\"1\" class=\"dataframe\">\n",
       "  <thead>\n",
       "    <tr style=\"text-align: right;\">\n",
       "      <th></th>\n",
       "      <th>W()_sigOU</th>\n",
       "    </tr>\n",
       "  </thead>\n",
       "  <tbody>\n",
       "    <tr>\n",
       "      <th>15.0</th>\n",
       "      <td>0.00001</td>\n",
       "    </tr>\n",
       "  </tbody>\n",
       "</table>\n",
       "</div>"
      ],
      "text/plain": [
       "      W()_sigOU\n",
       "15.0    0.00001"
      ]
     },
     "execution_count": 82,
     "metadata": {},
     "output_type": "execute_result"
    }
   ],
   "source": [
    "L=70\n",
    "P=np.linspace(1,15,100)\n",
    "w=np.zeros(len(P))\n",
    "for p in range(len(P)):\n",
    "    w[p]=np.linalg.norm(em.calcW(rr2010,L,P[p]))**2#x6[1]\n",
    "min(w)\n",
    "#\n",
    "H=[]\n",
    "for p in range(len(P)):\n",
    "    H.append(1/P[p])\n",
    "datasigOU=pd.DataFrame(w,index=P,columns=['W()_sigOU'])\n",
    "datasigOU[ datasigOU['W()_sigOU'] == min(w) ]"
   ]
  },
  {
   "cell_type": "code",
   "execution_count": null,
   "metadata": {},
   "outputs": [
    {
     "data": {
      "image/png": "[encoded data removed]",
      "text/plain": [
       "<Figure size 432x288 with 1 Axes>"
      ]
     },
     "metadata": {
      "needs_background": "light"
     },
     "output_type": "display_data"
    }
   ],
   "source": [
    "plt.semilogy(H,w,'r')\n",
    "plt.xlabel('H=1/p')\n",
    "plt.ylabel('log(||W(\\sigma_t,T,L,K,\\pi)-1||_^2-1)')\n",
    "plt.annotate('Expected', xy=(0.5, 0), xytext=(0.5, 1.5))#,arrowprops=dict(facecolor='black', shrink=0.05))\n",
    "plt.annotate('Cont-Das', xy=(0.56, 0), xytext=(0.56, 1))\n",
    "#plt.annotate('Our', xy=(0.4851486301343279, 0), xytext=(0.4851486301343279, 1))\n",
    "plt.title('Hurst for SPX at 5 second realized volatility: Series for 2009 \\n H=0.164, p=6.09 with K=90')\n",
    "plt.grid(True)\n",
    "#plt.xlim(0.05,0.6)\n",
    "plt.axvline(x=1/2.555556, ymin=0.0, ymax=7)\n",
    "#plt.axhline(y=1,xmin=0.,xmax=1)\n",
    "plt.show()"
   ]
  },
  {
   "cell_type": "code",
   "execution_count": null,
   "metadata": {},
   "outputs": [
    {
     "data": {
      "text/plain": [
       "0.3523131471992514"
      ]
     },
     "execution_count": 6,
     "metadata": {},
     "output_type": "execute_result"
    }
   ],
   "source": [
    "1/2.838384"
   ]
  },
  {
   "cell_type": "code",
   "execution_count": null,
   "metadata": {},
   "outputs": [
    {
     "data": {
      "text/plain": [
       "0.279999966400004"
      ]
     },
     "execution_count": 7,
     "metadata": {},
     "output_type": "execute_result"
    }
   ],
   "source": [
    "1/3.571429"
   ]
  }
 ],
 "metadata": {
  "interpreter": {
   "hash": "597e2b791014bf3f975e304e1e72922cb6b9245e0453d34e2c818a7120fc527f"
  },
  "kernelspec": {
   "display_name": "Python 3 (ipykernel)",
   "language": "python",
   "name": "python3"
  },
  "language_info": {
   "codemirror_mode": {
    "name": "ipython",
    "version": 3
   },
   "file_extension": ".py",
   "mimetype": "text/x-python",
   "name": "python",
   "nbconvert_exporter": "python",
   "pygments_lexer": "ipython3",
   "version": "3.9.7"
  }
 },
 "nbformat": 4,
 "nbformat_minor": 4
}
