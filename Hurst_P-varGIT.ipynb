{
 "cells": [
  {
   "cell_type": "code",
   "execution_count": 1,
   "metadata": {},
   "outputs": [],
   "source": [
    "import numpy as np\n",
    "import pandas as pd\n",
    "import processi_EMGIT as em\n",
    "import matplotlib.pyplot as plt\n",
    "from statsmodels.tsa.stattools import acf, pacf,adfuller\n",
    "from statsmodels.graphics.tsaplots import plot_acf, plot_pacf\n",
    "%matplotlib inline"
   ]
  },
  {
   "cell_type": "markdown",
   "metadata": {},
   "source": [
    "Calcolo di W e ottimizzazione per Hurst exponent per Modulus Wiener volatility SENZA RUMORE >300\n",
    " =======\n",
    " H=1/3.818182"
   ]
  },
  {
   "cell_type": "code",
   "execution_count": 197,
   "metadata": {},
   "outputs": [],
   "source": [
    "s=em.gbm_mod_adj(100,1,23400)\n",
    "r2=em.calcolaRendimenti(s[0],len(s[0]))\n",
    "f=em.realVol(r2,5,23400)\n",
    "diff=np.zeros(len(f))\n",
    "for i in range(len(f)):\n",
    "    diff[i]=(s[1][i]-f[i])"
   ]
  },
  {
   "cell_type": "code",
   "execution_count": 218,
   "metadata": {},
   "outputs": [
    {
     "data": {
      "text/html": [
       "<div>\n",
       "<style scoped>\n",
       "    .dataframe tbody tr th:only-of-type {\n",
       "        vertical-align: middle;\n",
       "    }\n",
       "\n",
       "    .dataframe tbody tr th {\n",
       "        vertical-align: top;\n",
       "    }\n",
       "\n",
       "    .dataframe thead th {\n",
       "        text-align: right;\n",
       "    }\n",
       "</style>\n",
       "<table border=\"1\" class=\"dataframe\">\n",
       "  <thead>\n",
       "    <tr style=\"text-align: right;\">\n",
       "      <th></th>\n",
       "      <th>W()</th>\n",
       "      <th>P</th>\n",
       "    </tr>\n",
       "  </thead>\n",
       "  <tbody>\n",
       "    <tr>\n",
       "      <th>1.0</th>\n",
       "      <td>0.002784</td>\n",
       "      <td>1.0</td>\n",
       "    </tr>\n",
       "  </tbody>\n",
       "</table>\n",
       "</div>"
      ],
      "text/plain": [
       "          W()    P\n",
       "1.0  0.002784  1.0"
      ]
     },
     "execution_count": 218,
     "metadata": {},
     "output_type": "execute_result"
    }
   ],
   "source": [
    "#REALIZED VOL PER MOD #NOISE\n",
    "P=np.linspace(1,10)\n",
    "w=np.zeros(len(P))\n",
    "Hrmod=[]\n",
    "for p in range(len(P)):\n",
    "    Hrmod.append(1/P[p])\n",
    "for p in range(len(P)):\n",
    "    w[p]=np.linalg.norm(em.calcW(f,250,P[p]))**2 #ogni mezz'ora f=10 secondi faccio una media ogni mezz'ora e parliamo di sì noise\n",
    "min(w) #300 no noise\n",
    "data=pd.DataFrame(w,index=Hrmod,columns=['W()'])\n",
    "data['P']=P\n",
    "data[ data['W()'] <= min(w) ]\n",
    "\n"
   ]
  },
  {
   "cell_type": "code",
   "execution_count": 219,
   "metadata": {},
   "outputs": [
    {
     "data": {
      "image/png": "[encoded data removed]",
      "text/plain": [
       "<Figure size 432x288 with 1 Axes>"
      ]
     },
     "metadata": {
      "needs_background": "light"
     },
     "output_type": "display_data"
    }
   ],
   "source": [
    "plt.semilogy(Hrmod,w,'r')\n",
    "plt.xlabel('H=1/p')\n",
    "plt.ylabel('log(W(\\RV_t,T,L,K,\\pi))')\n",
    "plt.title('Hurst exponent for realized modW: H=0.475, p=2.10')\n",
    "plt.axvline(x=0.475\t, ymin=0.0, ymax=7)\n",
    "plt.axhline(y=1)\n",
    "plt.grid(True)\n",
    "plt.show()"
   ]
  },
  {
   "cell_type": "code",
   "execution_count": 56,
   "metadata": {},
   "outputs": [
    {
     "data": {
      "text/html": [
       "<div>\n",
       "<style scoped>\n",
       "    .dataframe tbody tr th:only-of-type {\n",
       "        vertical-align: middle;\n",
       "    }\n",
       "\n",
       "    .dataframe tbody tr th {\n",
       "        vertical-align: top;\n",
       "    }\n",
       "\n",
       "    .dataframe thead th {\n",
       "        text-align: right;\n",
       "    }\n",
       "</style>\n",
       "<table border=\"1\" class=\"dataframe\">\n",
       "  <thead>\n",
       "    <tr style=\"text-align: right;\">\n",
       "      <th></th>\n",
       "      <th>W()</th>\n",
       "      <th>P</th>\n",
       "    </tr>\n",
       "  </thead>\n",
       "  <tbody>\n",
       "    <tr>\n",
       "      <th>1.0</th>\n",
       "      <td>0.249535</td>\n",
       "      <td>1.0</td>\n",
       "    </tr>\n",
       "  </tbody>\n",
       "</table>\n",
       "</div>"
      ],
      "text/plain": [
       "          W()    P\n",
       "1.0  0.249535  1.0"
      ]
     },
     "execution_count": 56,
     "metadata": {},
     "output_type": "execute_result"
    }
   ],
   "source": [
    "#CON NOISE DOPO SCHERZAVO .. #REALIZED VOL PER MOD #DENOISED\n",
    "P=np.linspace(1,15)\n",
    "w=np.zeros(len(P))\n",
    "HrmodNon=[]\n",
    "for p in range(len(P)):\n",
    "    HrmodNon.append(1/P[p])\n",
    "for p in range(len(P)):\n",
    "    w[p]=np.linalg.norm(em.W_1(f,len(f),6,P[p]))**2\n",
    "min(w)\n",
    "data=pd.DataFrame(w,index=HrmodNon,columns=['W()'])\n",
    "data['P']=P\n",
    "data[ data['W()'] <= min(w) ]"
   ]
  },
  {
   "cell_type": "code",
   "execution_count": 57,
   "metadata": {},
   "outputs": [
    {
     "data": {
      "image/png": "[encoded data removed]",
      "text/plain": [
       "<Figure size 432x288 with 1 Axes>"
      ]
     },
     "metadata": {
      "needs_background": "light"
     },
     "output_type": "display_data"
    }
   ],
   "source": [
    "plt.semilogy(HrmodNon,w,'r')\n",
    "plt.xlabel('H=1/p')\n",
    "plt.ylabel('log(W(\\RV_t,T,L,K,\\pi))')\n",
    "plt.title('Hurst exponent for de-Noised realized modW: H=0.3, p=3')\n",
    "plt.axvline(x=0.333, ymin=0.0, ymax=7)\n",
    "plt.axhline(y=1)\n",
    "plt.grid(True)\n",
    "plt.show()"
   ]
  },
  {
   "cell_type": "code",
   "execution_count": 237,
   "metadata": {},
   "outputs": [
    {
     "data": {
      "text/html": [
       "<div>\n",
       "<style scoped>\n",
       "    .dataframe tbody tr th:only-of-type {\n",
       "        vertical-align: middle;\n",
       "    }\n",
       "\n",
       "    .dataframe tbody tr th {\n",
       "        vertical-align: top;\n",
       "    }\n",
       "\n",
       "    .dataframe thead th {\n",
       "        text-align: right;\n",
       "    }\n",
       "</style>\n",
       "<table border=\"1\" class=\"dataframe\">\n",
       "  <thead>\n",
       "    <tr style=\"text-align: right;\">\n",
       "      <th></th>\n",
       "      <th>W()_sig</th>\n",
       "    </tr>\n",
       "  </thead>\n",
       "  <tbody>\n",
       "    <tr>\n",
       "      <th>2.285714</th>\n",
       "      <td>0.014688</td>\n",
       "    </tr>\n",
       "  </tbody>\n",
       "</table>\n",
       "</div>"
      ],
      "text/plain": [
       "           W()_sig\n",
       "2.285714  0.014688"
      ]
     },
     "execution_count": 237,
     "metadata": {},
     "output_type": "execute_result"
    }
   ],
   "source": [
    "#INSTANT VOL PER MOD\n",
    "\n",
    "P=np.linspace(1,10)\n",
    "w=np.zeros(len(P))\n",
    "Hrsig=[]\n",
    "for p in range(len(P)):\n",
    "    Hrsig.append(1/P[p])\n",
    "for p in range(len(P)):\n",
    "    w[p]=np.linalg.norm(em.calcW(s[1],250,P[p])-1)**2\n",
    "min(w)\n",
    "datasig=pd.DataFrame(w,index=P,columns=['W()_sig'])\n",
    "datasig[ datasig['W()_sig'] == min(w) ]"
   ]
  },
  {
   "cell_type": "code",
   "execution_count": 236,
   "metadata": {},
   "outputs": [
    {
     "data": {
      "image/png": "[encoded data removed]",
      "text/plain": [
       "<Figure size 432x288 with 1 Axes>"
      ]
     },
     "metadata": {
      "needs_background": "light"
     },
     "output_type": "display_data"
    }
   ],
   "source": [
    "plt.semilogy(Hrsig,w,'r')\n",
    "plt.xlabel('H=1/p')\n",
    "plt.ylabel('log(W(\\sigma_t,T,L,K,\\pi))')\n",
    "plt.title('Hurst exponent for instantaneous modW: H=0.47, p=2.102041')\n",
    "plt.axvline(x=1/1.73, ymin=0.0, ymax=7)\n",
    "plt.axhline(y=1)\n",
    "plt.grid(True)\n",
    "plt.show()\n",
    "#mettila per OU ed Ou per questa"
   ]
  },
  {
   "cell_type": "code",
   "execution_count": 92,
   "metadata": {},
   "outputs": [
    {
     "data": {
      "text/html": [
       "<div>\n",
       "<style scoped>\n",
       "    .dataframe tbody tr th:only-of-type {\n",
       "        vertical-align: middle;\n",
       "    }\n",
       "\n",
       "    .dataframe tbody tr th {\n",
       "        vertical-align: top;\n",
       "    }\n",
       "\n",
       "    .dataframe thead th {\n",
       "        text-align: right;\n",
       "    }\n",
       "</style>\n",
       "<table border=\"1\" class=\"dataframe\">\n",
       "  <thead>\n",
       "    <tr style=\"text-align: right;\">\n",
       "      <th></th>\n",
       "      <th>W()_sig</th>\n",
       "    </tr>\n",
       "  </thead>\n",
       "  <tbody>\n",
       "    <tr>\n",
       "      <th>1.367347</th>\n",
       "      <td>0.042796</td>\n",
       "    </tr>\n",
       "  </tbody>\n",
       "</table>\n",
       "</div>"
      ],
      "text/plain": [
       "           W()_sig\n",
       "1.367347  0.042796"
      ]
     },
     "execution_count": 92,
     "metadata": {},
     "output_type": "execute_result"
    }
   ],
   "source": [
    "s=em.gbm_mod_adj(100,1,23400)\n",
    "P=np.linspace(1,10)\n",
    "w=np.zeros(len(P))\n",
    "Hrsig=[]\n",
    "for p in range(len(P)):\n",
    "    Hrsig.append(1/P[p])\n",
    "for p in range(len(P)):\n",
    "    w[p]=np.linalg.norm(em.calcW(s[1],60,P[p])-1)**2\n",
    "min(w)\n",
    "datasig=pd.DataFrame(w,index=P,columns=['W()_sig'])\n",
    "datasig[ datasig['W()_sig'] == min(w) ]"
   ]
  },
  {
   "cell_type": "code",
   "execution_count": 88,
   "metadata": {},
   "outputs": [
    {
     "data": {
      "image/png": "[encoded data removed]",
      "text/plain": [
       "<Figure size 432x288 with 1 Axes>"
      ]
     },
     "metadata": {
      "needs_background": "light"
     },
     "output_type": "display_data"
    }
   ],
   "source": [
    "plt.semilogy(Hrsig,w,'r')\n",
    "plt.xlabel('H=1/p')\n",
    "plt.ylabel('log(W(\\sigma_t,T,L,K,\\pi))')\n",
    "plt.title('Hurst exponent for instantaneous modW: H=0.52, p=1.91')\n",
    "plt.axvline(x=1/1.91, ymin=0.0, ymax=7)\n",
    "plt.axhline(y=1)\n",
    "plt.grid(True)\n",
    "plt.show()"
   ]
  },
  {
   "cell_type": "markdown",
   "metadata": {},
   "source": [
    "Calcolo di W e ottimizzazione per Hurst exponent per Exp OU volatility\n",
    " ======="
   ]
  },
  {
   "cell_type": "code",
   "execution_count": 260,
   "metadata": {},
   "outputs": [],
   "source": [
    "s=em.gbm_expOU(100,1,23400)\n",
    "r2=em.calcolaRendimenti(s[0],len(s[0]))\n",
    "#r2=em.calcolaRendimenti(s[0],len(s[0]))\n",
    "fOU=em.realVol(r2,10,23400)\n",
    "diff=np.zeros(len(f))\n",
    "for i in range(len(f)):\n",
    "    diff[i]=(s[1][i]-f[i])"
   ]
  },
  {
   "cell_type": "code",
   "execution_count": 285,
   "metadata": {},
   "outputs": [
    {
     "data": {
      "text/html": [
       "<div>\n",
       "<style scoped>\n",
       "    .dataframe tbody tr th:only-of-type {\n",
       "        vertical-align: middle;\n",
       "    }\n",
       "\n",
       "    .dataframe tbody tr th {\n",
       "        vertical-align: top;\n",
       "    }\n",
       "\n",
       "    .dataframe thead th {\n",
       "        text-align: right;\n",
       "    }\n",
       "</style>\n",
       "<table border=\"1\" class=\"dataframe\">\n",
       "  <thead>\n",
       "    <tr style=\"text-align: right;\">\n",
       "      <th></th>\n",
       "      <th>W()</th>\n",
       "      <th>H</th>\n",
       "    </tr>\n",
       "  </thead>\n",
       "  <tbody>\n",
       "    <tr>\n",
       "      <th>1.0</th>\n",
       "      <td>0.000809</td>\n",
       "      <td>1.0</td>\n",
       "    </tr>\n",
       "  </tbody>\n",
       "</table>\n",
       "</div>"
      ],
      "text/plain": [
       "          W()    H\n",
       "1.0  0.000809  1.0"
      ]
     },
     "execution_count": 285,
     "metadata": {},
     "output_type": "execute_result"
    }
   ],
   "source": [
    "#No noise\n",
    "P=np.linspace(1,10)\n",
    "w=np.zeros(len(P))\n",
    "Hrouno=[]\n",
    "for p in range(len(P)):\n",
    "    Hrouno.append(1/P[p])\n",
    "for p in range(len(P)):\n",
    "    w[p]=np.linalg.norm(em.calcW(fOU,250,P[p]))**2\n",
    "min(w)\n",
    "dataOU=pd.DataFrame(w,index=P,columns=['W()'])\n",
    "dataOU['H']=Hrouno\n",
    "dataOU[ dataOU['W()'] <= min(w)]\n"
   ]
  },
  {
   "cell_type": "code",
   "execution_count": 286,
   "metadata": {},
   "outputs": [
    {
     "data": {
      "image/png": "[encoded data removed]",
      "text/plain": [
       "<Figure size 432x288 with 1 Axes>"
      ]
     },
     "metadata": {
      "needs_background": "light"
     },
     "output_type": "display_data"
    }
   ],
   "source": [
    "plt.semilogy(Hrouno,w,'r')\n",
    "plt.ylabel('log(W(\\RV_t,T,L,K,\\pi))')\n",
    "plt.xlabel('H=1/p')\n",
    "#plt.annotate('Our', xy=(0.2, 105), xytext=(0.2, 105))\n",
    "plt.title('Hurst exponent for realized noised expOU: H=0.3525, p=2.836')\n",
    "plt.axvline(x=1/2.836, ymin=0.0, ymax=7)\n",
    "plt.grid(True)\n",
    "#plt.xlim(right=0.3)\n",
    "#plt.ylim(bottom=10e-5)\n",
    "plt.axhline(y=1)\n",
    "plt.show()"
   ]
  },
  {
   "cell_type": "code",
   "execution_count": 101,
   "metadata": {},
   "outputs": [
    {
     "data": {
      "text/html": [
       "<div>\n",
       "<style scoped>\n",
       "    .dataframe tbody tr th:only-of-type {\n",
       "        vertical-align: middle;\n",
       "    }\n",
       "\n",
       "    .dataframe tbody tr th {\n",
       "        vertical-align: top;\n",
       "    }\n",
       "\n",
       "    .dataframe thead th {\n",
       "        text-align: right;\n",
       "    }\n",
       "</style>\n",
       "<table border=\"1\" class=\"dataframe\">\n",
       "  <thead>\n",
       "    <tr style=\"text-align: right;\">\n",
       "      <th></th>\n",
       "      <th>W()</th>\n",
       "      <th>H</th>\n",
       "    </tr>\n",
       "  </thead>\n",
       "  <tbody>\n",
       "    <tr>\n",
       "      <th>1.0</th>\n",
       "      <td>0.00418</td>\n",
       "      <td>1.0</td>\n",
       "    </tr>\n",
       "  </tbody>\n",
       "</table>\n",
       "</div>"
      ],
      "text/plain": [
       "         W()    H\n",
       "1.0  0.00418  1.0"
      ]
     },
     "execution_count": 101,
     "metadata": {},
     "output_type": "execute_result"
    }
   ],
   "source": [
    "P=np.linspace(1,10)\n",
    "w=np.zeros(len(P))\n",
    "Hrou=[]\n",
    "for p in range(len(P)):\n",
    "    Hrou.append(1/P[p])\n",
    "for p in range(len(P)):\n",
    "    w[p]=np.linalg.norm(em.calcW(fOU,25,P[p]))**2\n",
    "min(w)\n",
    "dataOU=pd.DataFrame(w,index=P,columns=['W()'])\n",
    "dataOU['H']=Hrou\n",
    "dataOU[ dataOU['W()'] <= min(w)]"
   ]
  },
  {
   "cell_type": "code",
   "execution_count": 102,
   "metadata": {},
   "outputs": [
    {
     "data": {
      "image/png": "[encoded data removed]",
      "text/plain": [
       "<Figure size 432x288 with 1 Axes>"
      ]
     },
     "metadata": {
      "needs_background": "light"
     },
     "output_type": "display_data"
    }
   ],
   "source": [
    "plt.semilogy(Hrou,w,'r')\n",
    "plt.ylabel('log(W(\\RV_t,T,L,K,\\pi))')\n",
    "plt.xlabel('H=1/p')\n",
    "#plt.annotate('Our', xy=(0.2, 105), xytext=(0.2, 105))\n",
    "plt.title('Hurst exponent for realized Volatility expOU: H=0.4, p=2.65')\n",
    "plt.axvline(x=0.404959, ymin=0.0, ymax=7)\n",
    "plt.axhline(y=1)\n",
    "plt.grid(True)\n",
    "plt.show()"
   ]
  },
  {
   "cell_type": "code",
   "execution_count": 159,
   "metadata": {},
   "outputs": [
    {
     "data": {
      "text/html": [
       "<div>\n",
       "<style scoped>\n",
       "    .dataframe tbody tr th:only-of-type {\n",
       "        vertical-align: middle;\n",
       "    }\n",
       "\n",
       "    .dataframe tbody tr th {\n",
       "        vertical-align: top;\n",
       "    }\n",
       "\n",
       "    .dataframe thead th {\n",
       "        text-align: right;\n",
       "    }\n",
       "</style>\n",
       "<table border=\"1\" class=\"dataframe\">\n",
       "  <thead>\n",
       "    <tr style=\"text-align: right;\">\n",
       "      <th></th>\n",
       "      <th>W()_sigOU</th>\n",
       "    </tr>\n",
       "  </thead>\n",
       "  <tbody>\n",
       "    <tr>\n",
       "      <th>1.0</th>\n",
       "      <td>0.026419</td>\n",
       "    </tr>\n",
       "  </tbody>\n",
       "</table>\n",
       "</div>"
      ],
      "text/plain": [
       "     W()_sigOU\n",
       "1.0   0.026419"
      ]
     },
     "execution_count": 159,
     "metadata": {},
     "output_type": "execute_result"
    }
   ],
   "source": [
    "s=em.gbm_expOU(100,1,23400)\n",
    "P=np.linspace(1,3)\n",
    "w=np.zeros(len(P))\n",
    "for p in range(len(P)):\n",
    "    w[p]=np.linalg.norm(em.calcW(s[1],35,P[p]))**2\n",
    "min(w)\n",
    "#\n",
    "H=[]\n",
    "for p in range(len(P)):\n",
    "    H.append(1/P[p])\n",
    "datasigOU=pd.DataFrame(w,index=P,columns=['W()_sigOU'])\n",
    "datasigOU[ datasigOU['W()_sigOU'] == min(w) ]\n"
   ]
  },
  {
   "cell_type": "code",
   "execution_count": 164,
   "metadata": {},
   "outputs": [
    {
     "data": {
      "image/png": "[encoded data removed]",
      "text/plain": [
       "<Figure size 432x288 with 1 Axes>"
      ]
     },
     "metadata": {
      "needs_background": "light"
     },
     "output_type": "display_data"
    }
   ],
   "source": [
    "plt.semilogy(H,w,'r')\n",
    "plt.xlabel('H=1/p')\n",
    "plt.ylabel('log(W(\\sigma_t,T,L,K,\\pi))')\n",
    "#plt.annotate('Expected', xy=(0.5, 0), xytext=(0.5, 1.5))#,arrowprops=dict(facecolor='black', shrink=0.05))\n",
    "#plt.annotate('Cont-Das', xy=(0.56, 0), xytext=(0.56, 1))\n",
    "#plt.annotate('Our', xy=(0.4851486301343279, 0), xytext=(0.4851486301343279, 1))\n",
    "plt.title('Hurst exponent for instantaneous expOU: H=0.49, p=2.03')\n",
    "plt.axvline(x=1/2.03 , ymin=0.0, ymax=7)\n",
    "plt.axhline(y=1)\n",
    "plt.grid(True)\n",
    "plt.show()\n"
   ]
  },
  {
   "cell_type": "code",
   "execution_count": 134,
   "metadata": {},
   "outputs": [],
   "source": [
    "s=em.gbm_expOU_adj(100,1,23400)\n",
    "r2=em.calcolaRendimenti(s[0],len(s[0]))\n",
    "fOU=em.realVol(r2,10,23400)\n",
    "diff=np.zeros(len(f))\n",
    "for i in range(len(f)):\n",
    "    diff[i]=(s[1][i]-f[i])\n"
   ]
  },
  {
   "cell_type": "code",
   "execution_count": 150,
   "metadata": {},
   "outputs": [
    {
     "data": {
      "text/html": [
       "<div>\n",
       "<style scoped>\n",
       "    .dataframe tbody tr th:only-of-type {\n",
       "        vertical-align: middle;\n",
       "    }\n",
       "\n",
       "    .dataframe tbody tr th {\n",
       "        vertical-align: top;\n",
       "    }\n",
       "\n",
       "    .dataframe thead th {\n",
       "        text-align: right;\n",
       "    }\n",
       "</style>\n",
       "<table border=\"1\" class=\"dataframe\">\n",
       "  <thead>\n",
       "    <tr style=\"text-align: right;\">\n",
       "      <th></th>\n",
       "      <th>W()</th>\n",
       "      <th>H</th>\n",
       "    </tr>\n",
       "  </thead>\n",
       "  <tbody>\n",
       "    <tr>\n",
       "      <th>1.0</th>\n",
       "      <td>0.000361</td>\n",
       "      <td>1.0</td>\n",
       "    </tr>\n",
       "  </tbody>\n",
       "</table>\n",
       "</div>"
      ],
      "text/plain": [
       "          W()    H\n",
       "1.0  0.000361  1.0"
      ]
     },
     "execution_count": 150,
     "metadata": {},
     "output_type": "execute_result"
    }
   ],
   "source": [
    "\n",
    "\n",
    "#No noise\n",
    "P=np.linspace(1,20)\n",
    "w=np.zeros(len(P))\n",
    "Hrouno=[]\n",
    "for p in range(len(P)):\n",
    "    Hrouno.append(1/P[p])\n",
    "for p in range(len(P)):\n",
    "    w[p]=np.linalg.norm(em.calcW(fOU,330,P[p]))**2\n",
    "min(w)\n",
    "dataOU=pd.DataFrame(w,index=P,columns=['W()'])\n",
    "dataOU['H']=Hrouno\n",
    "dataOU[ dataOU['W()'] <= min(w)]\n"
   ]
  },
  {
   "cell_type": "code",
   "execution_count": 157,
   "metadata": {},
   "outputs": [
    {
     "data": {
      "image/png": "[encoded data removed]",
      "text/plain": [
       "<Figure size 432x288 with 1 Axes>"
      ]
     },
     "metadata": {
      "needs_background": "light"
     },
     "output_type": "display_data"
    }
   ],
   "source": [
    "\n",
    "plt.semilogy(Hrouno,w,'r')#1minute sampling\n",
    "plt.ylabel('log(W(\\RV_t,T,L,K,\\pi))')\n",
    "plt.xlabel('H=1/p')\n",
    "#plt.annotate('Our', xy=(0.2, 105), xytext=(0.2, 105))\n",
    "plt.title('Hurst exponent for instantaneous modW : H=0.307, p=3.25') #realized de-noised expOU\n",
    "plt.axvline(x=1/3.25, ymin=0.0, ymax=7)\n",
    "plt.grid(True)\n",
    "plt.axhline(y=1)\n",
    "plt.show()"
   ]
  },
  {
   "cell_type": "code",
   "execution_count": 47,
   "metadata": {},
   "outputs": [],
   "source": [
    "#logify = lambda arr: np.log(arr)\n",
    "#dataOU.apply(logify).plot()\n",
    "#plt.show()\n",
    "#datasigOU.apply(logify).plot()\n",
    "#plt.show()"
   ]
  },
  {
   "cell_type": "code",
   "execution_count": 48,
   "metadata": {},
   "outputs": [],
   "source": [
    "#plt.semilogx(dataOU)\n",
    "##invert_xaxis()\n",
    "##plt.invert_yaxis()\n",
    "#plt.show()\n",
    "#plt.semilogx(datasigOU)\n",
    "#plt.show()"
   ]
  },
  {
   "cell_type": "code",
   "execution_count": 49,
   "metadata": {},
   "outputs": [],
   "source": [
    "#logw=np.zeros(len(w))\n",
    "#hurst=np.zeros(len(P))\n",
    "#for i in range(len(w)):\n",
    "#    logw[i]=np.log(w[i])\n",
    "#for i in range(len(P)):\n",
    "#    hurst[i]=1/P[i]\n",
    "#datatoplot=pd.DataFrame(logw,index=hurst,columns=['log(W)'])\n",
    "#datatoplot.describe()"
   ]
  }
 ],
 "metadata": {
  "interpreter": {
   "hash": "597e2b791014bf3f975e304e1e72922cb6b9245e0453d34e2c818a7120fc527f"
  },
  "kernelspec": {
   "display_name": "Python 3.9.7 ('base')",
   "language": "python",
   "name": "python3"
  },
  "language_info": {
   "codemirror_mode": {
    "name": "ipython",
    "version": 3
   },
   "file_extension": ".py",
   "mimetype": "text/x-python",
   "name": "python",
   "nbconvert_exporter": "python",
   "pygments_lexer": "ipython3",
   "version": "3.9.7"
  },
  "orig_nbformat": 4
 },
 "nbformat": 4,
 "nbformat_minor": 2
}
