{
 "cells": [
  {
   "cell_type": "code",
   "execution_count": 1,
   "metadata": {},
   "outputs": [],
   "source": [
    "import numpy as np\n",
    "import pandas as pd\n",
    "import processi_EMGIT as em\n",
    "\n",
    "import matplotlib.pyplot as plt\n",
    "from statsmodels.tsa.stattools import acf, pacf,adfuller\n",
    "from statsmodels.graphics.tsaplots import plot_acf, plot_pacf\n",
    "%matplotlib inline"
   ]
  },
  {
   "cell_type": "markdown",
   "metadata": {},
   "source": [
    "Calcolo di W e ottimizzazione per Hurst exponent per Modulus Wiener volatility\n",
    " =======\n",
    " H=1/3.818182"
   ]
  },
  {
   "cell_type": "code",
   "execution_count": 2,
   "metadata": {},
   "outputs": [],
   "source": [
    "\n",
    "s=em.gbm_mod(100,1,23400)\n",
    "r2=em.calcolaRendimenti(s[0],len(s[0]))\n",
    "f=em.realVol(r2,10,23400)\n",
    "#f=em.RV(s[0],len(s[0]))\n",
    "diff=np.zeros(len(f))\n",
    "for i in range(len(f)):\n",
    "    diff[i]=(s[1][i]-f[i])\n",
    "#r2=em.calcolaRendimenti(s[0],len(s[0]))\n"
   ]
  },
  {
   "cell_type": "code",
   "execution_count": 3,
   "metadata": {},
   "outputs": [
    {
     "data": {
      "text/html": [
       "<div>\n",
       "<style scoped>\n",
       "    .dataframe tbody tr th:only-of-type {\n",
       "        vertical-align: middle;\n",
       "    }\n",
       "\n",
       "    .dataframe tbody tr th {\n",
       "        vertical-align: top;\n",
       "    }\n",
       "\n",
       "    .dataframe thead th {\n",
       "        text-align: right;\n",
       "    }\n",
       "</style>\n",
       "<table border=\"1\" class=\"dataframe\">\n",
       "  <thead>\n",
       "    <tr style=\"text-align: right;\">\n",
       "      <th></th>\n",
       "      <th>W()</th>\n",
       "      <th>P</th>\n",
       "    </tr>\n",
       "  </thead>\n",
       "  <tbody>\n",
       "    <tr>\n",
       "      <th>0.153605</th>\n",
       "      <td>0.002528</td>\n",
       "      <td>6.510204</td>\n",
       "    </tr>\n",
       "  </tbody>\n",
       "</table>\n",
       "</div>"
      ],
      "text/plain": [
       "               W()         P\n",
       "0.153605  0.002528  6.510204"
      ]
     },
     "execution_count": 3,
     "metadata": {},
     "output_type": "execute_result"
    }
   ],
   "source": [
    "#REALIZED VOL PER MOD\n",
    "P=np.linspace(1,10)\n",
    "w=np.zeros(len(P))\n",
    "Hrmod=[]\n",
    "for p in range(len(P)):\n",
    "    Hrmod.append(1/P[p])\n",
    "for p in range(len(P)):\n",
    "    w[p]=np.linalg.norm(em.W(f,2339,30,P[p])-1)**2\n",
    "min(w)\n",
    "data=pd.DataFrame(w,index=Hrmod,columns=['W()'])\n",
    "data['P']=P\n",
    "data[ data['W()'] <= min(w) ]\n",
    "\n"
   ]
  },
  {
   "cell_type": "code",
   "execution_count": 4,
   "metadata": {},
   "outputs": [
    {
     "data": {
      "image/png": "[encoded data removed]",
      "text/plain": [
       "<Figure size 432x288 with 1 Axes>"
      ]
     },
     "metadata": {
      "needs_background": "light"
     },
     "output_type": "display_data"
    }
   ],
   "source": [
    "plt.plot(Hrmod,w)\n",
    "plt.xlabel('H=1/p')\n",
    "plt.ylabel('W(\\RV_t,T,L,K,\\pi)')\n",
    "#plt.annotate('Minimum', xy=(0.264865, 0.), xytext=(0.264865, 0.1),arrowprops=dict(facecolor='black', shrink=0.05))\n",
    "#plt.axis([0.2, 0.3, 0, 0.5])\n",
    "plt.title('Hurst exponent for realized modW: H=0.153605, p=6.51')\n",
    "plt.axis([0.0, 0.4, -0.05, 2000])\n",
    "plt.axvline(x=0.15364\t, ymin=0.0, ymax=7,color='r')\n",
    "\n",
    "plt.show()"
   ]
  },
  {
   "cell_type": "code",
   "execution_count": 5,
   "metadata": {},
   "outputs": [
    {
     "data": {
      "text/html": [
       "<div>\n",
       "<style scoped>\n",
       "    .dataframe tbody tr th:only-of-type {\n",
       "        vertical-align: middle;\n",
       "    }\n",
       "\n",
       "    .dataframe tbody tr th {\n",
       "        vertical-align: top;\n",
       "    }\n",
       "\n",
       "    .dataframe thead th {\n",
       "        text-align: right;\n",
       "    }\n",
       "</style>\n",
       "<table border=\"1\" class=\"dataframe\">\n",
       "  <thead>\n",
       "    <tr style=\"text-align: right;\">\n",
       "      <th></th>\n",
       "      <th>W()_sig</th>\n",
       "    </tr>\n",
       "  </thead>\n",
       "  <tbody>\n",
       "    <tr>\n",
       "      <th>2.030303</th>\n",
       "      <td>0.000271</td>\n",
       "    </tr>\n",
       "  </tbody>\n",
       "</table>\n",
       "</div>"
      ],
      "text/plain": [
       "           W()_sig\n",
       "2.030303  0.000271"
      ]
     },
     "execution_count": 5,
     "metadata": {},
     "output_type": "execute_result"
    }
   ],
   "source": [
    "#INSTANT VOL PER MOD\n",
    "P=np.linspace(1,3,100)\n",
    "w=np.zeros(len(P))\n",
    "Hrsig=[]\n",
    "for p in range(len(P)):\n",
    "    Hrsig.append(1/P[p])\n",
    "for p in range(len(P)):\n",
    "    w[p]=np.linalg.norm(em.W_1(s[1],23398,300,P[p])-1)**2\n",
    "min(w)\n",
    "datasig=pd.DataFrame(w,index=P,columns=['W()_sig'])\n",
    "datasig[ datasig['W()_sig'] == min(w) ]\n"
   ]
  },
  {
   "cell_type": "code",
   "execution_count": 6,
   "metadata": {},
   "outputs": [
    {
     "data": {
      "image/png": "[encoded data removed]",
      "text/plain": [
       "<Figure size 432x288 with 1 Axes>"
      ]
     },
     "metadata": {
      "needs_background": "light"
     },
     "output_type": "display_data"
    }
   ],
   "source": [
    "#torna perchè il minimo è 2? NI\n",
    "plt.plot(Hrsig,w)\n",
    "plt.xlabel('H=1/p')\n",
    "plt.ylabel('W(\\sigma_t,T,L,K,\\pi)')\n",
    "plt.title('Hurst exponent for instantaneous modW: H=0.4912, p=2.0303')\n",
    "#plt.axis([0.3, 0.8, -0.005, 1.2])\n",
    "plt.axvline(x=1/2.030303, ymin=0.0, ymax=7)\n",
    "\n",
    "plt.show()"
   ]
  },
  {
   "cell_type": "markdown",
   "metadata": {},
   "source": [
    "Calcolo di W e ottimizzazione per Hurst exponent per Exp OU volatility\n",
    " ======="
   ]
  },
  {
   "cell_type": "code",
   "execution_count": 7,
   "metadata": {},
   "outputs": [],
   "source": [
    "s=em.gbm_expOU(100,1,23400)\n",
    "r2=em.calcolaRendimenti(s[0],len(s[0]))\n",
    "#fOU=em.RV_5min(s[0],1,len(s[0]))\n",
    "r2=em.calcolaRendimenti(s[0],len(s[0]))\n",
    "fOU=em.realVol(r2,10,23400)\n",
    "diff=np.zeros(len(f))\n",
    "for i in range(len(f)):\n",
    "    diff[i]=(s[1][i]-f[i])"
   ]
  },
  {
   "cell_type": "code",
   "execution_count": 8,
   "metadata": {},
   "outputs": [
    {
     "data": {
      "text/html": [
       "<div>\n",
       "<style scoped>\n",
       "    .dataframe tbody tr th:only-of-type {\n",
       "        vertical-align: middle;\n",
       "    }\n",
       "\n",
       "    .dataframe tbody tr th {\n",
       "        vertical-align: top;\n",
       "    }\n",
       "\n",
       "    .dataframe thead th {\n",
       "        text-align: right;\n",
       "    }\n",
       "</style>\n",
       "<table border=\"1\" class=\"dataframe\">\n",
       "  <thead>\n",
       "    <tr style=\"text-align: right;\">\n",
       "      <th></th>\n",
       "      <th>W()</th>\n",
       "      <th>H</th>\n",
       "    </tr>\n",
       "  </thead>\n",
       "  <tbody>\n",
       "    <tr>\n",
       "      <th>1.0</th>\n",
       "      <td>0.010824</td>\n",
       "      <td>1.0</td>\n",
       "    </tr>\n",
       "  </tbody>\n",
       "</table>\n",
       "</div>"
      ],
      "text/plain": [
       "          W()    H\n",
       "1.0  0.010824  1.0"
      ]
     },
     "execution_count": 8,
     "metadata": {},
     "output_type": "execute_result"
    }
   ],
   "source": [
    "P=np.linspace(1,10)\n",
    "w=np.zeros(len(P))\n",
    "Hrou=[]\n",
    "for p in range(len(P)):\n",
    "    Hrou.append(1/P[p])\n",
    "for p in range(len(P)):\n",
    "    w[p]=np.linalg.norm(em.W_1(fOU,2339,10,P[p]))**2\n",
    "min(w)\n",
    "dataOU=pd.DataFrame(w,index=P,columns=['W()'])\n",
    "dataOU['H']=Hrou\n",
    "dataOU[ dataOU['W()'] <= min(w)]\n"
   ]
  },
  {
   "cell_type": "code",
   "execution_count": 9,
   "metadata": {},
   "outputs": [
    {
     "data": {
      "image/png": "[encoded data removed]",
      "text/plain": [
       "<Figure size 432x288 with 1 Axes>"
      ]
     },
     "metadata": {
      "needs_background": "light"
     },
     "output_type": "display_data"
    }
   ],
   "source": [
    "# H=1/7.979591 ultima volta prima che arrivi a 1e-8\n",
    "plt.plot(Hrou,w)\n",
    "#plt.plot('H=1/p')\n",
    "plt.ylabel('W(\\RV_t,T,L,K,\\pi)')\n",
    "#plt.annotate('Cont-Das', xy=(0.15, 0.015), xytext=(0.15, 0.015))#,arrowprops=dict(facecolor='black', shrink=0.05))\n",
    "plt.annotate('Our', xy=(0.2, 105), xytext=(0.2, 105))\n",
    "plt.title('Hurst exponent for realized expOU: H=0.1225, p=8.16\\n  Numerically: first value with W ~ 1e-4')\n",
    "#plt.axis([0.1, 0.4, -0.005, 0.03])\n",
    "plt.axvline(x=0.2, ymin=0.0, ymax=7)\n",
    "plt.vlines(x=0.15, ymin=-0.006, ymax=7,colors='r')\n",
    "plt.show()"
   ]
  },
  {
   "cell_type": "code",
   "execution_count": 10,
   "metadata": {},
   "outputs": [
    {
     "data": {
      "image/png": "[encoded data removed]",
      "text/plain": [
       "<Figure size 432x288 with 1 Axes>"
      ]
     },
     "metadata": {
      "needs_background": "light"
     },
     "output_type": "display_data"
    }
   ],
   "source": [
    "# H=1/7.979591 ultima volta prima che arrivi a 1e-8\n",
    "plt.plot(Hrou,w)\n",
    "#plt.plot('H=1/p')\n",
    "plt.ylabel('W(\\RV_t,T,L,K,\\pi)')\n",
    "plt.annotate('Cont-Das', xy=(0.15, 115), xytext=(0.15, 115))#,arrowprops=dict(facecolor='black', shrink=0.05))\n",
    "plt.annotate('Our', xy=(0.15, 105), xytext=(0.15, 105))\n",
    "plt.title('Hurst exponent for realized expOU: H=0.1225, p=8.16\\n  Numerically: first value with W ~ 1e-4')\n",
    "#plt.axis([0.1, 0.4, -0.005, 0.03])\n",
    "plt.axvline(x=0.15, ymin=0.0, ymax=7)\n",
    "plt.vlines(x=0.15, ymin=0.0, ymax=7,colors='r')\n",
    "plt.show()"
   ]
  },
  {
   "cell_type": "code",
   "execution_count": 11,
   "metadata": {},
   "outputs": [
    {
     "data": {
      "text/html": [
       "<div>\n",
       "<style scoped>\n",
       "    .dataframe tbody tr th:only-of-type {\n",
       "        vertical-align: middle;\n",
       "    }\n",
       "\n",
       "    .dataframe tbody tr th {\n",
       "        vertical-align: top;\n",
       "    }\n",
       "\n",
       "    .dataframe thead th {\n",
       "        text-align: right;\n",
       "    }\n",
       "</style>\n",
       "<table border=\"1\" class=\"dataframe\">\n",
       "  <thead>\n",
       "    <tr style=\"text-align: right;\">\n",
       "      <th></th>\n",
       "      <th>W()_sigOU</th>\n",
       "    </tr>\n",
       "  </thead>\n",
       "  <tbody>\n",
       "    <tr>\n",
       "      <th>2.061224</th>\n",
       "      <td>0.000023</td>\n",
       "    </tr>\n",
       "  </tbody>\n",
       "</table>\n",
       "</div>"
      ],
      "text/plain": [
       "          W()_sigOU\n",
       "2.061224   0.000023"
      ]
     },
     "execution_count": 11,
     "metadata": {},
     "output_type": "execute_result"
    }
   ],
   "source": [
    "#sssss=np.linalg.norm(em.W(s[1],23398,300,2.))**2\n",
    "#sssss\n",
    "\n",
    "s=em.gbm_expOU(100,1,23400)\n",
    "P=np.linspace(1,3)\n",
    "w=np.zeros(len(P))\n",
    "for p in range(len(P)):\n",
    "    w[p]=np.linalg.norm(em.W_1(s[1],23398,300,P[p])-1)**2\n",
    "min(w)\n",
    "#\n",
    "H=[]\n",
    "for p in range(len(P)):\n",
    "    H.append(1/P[p])\n",
    "datasigOU=pd.DataFrame(w,index=P,columns=['W()_sigOU'])\n",
    "datasigOU[ datasigOU['W()_sigOU'] == min(w) ]\n"
   ]
  },
  {
   "cell_type": "code",
   "execution_count": 12,
   "metadata": {},
   "outputs": [
    {
     "data": {
      "image/png": "[encoded data removed]",
      "text/plain": [
       "<Figure size 432x288 with 1 Axes>"
      ]
     },
     "metadata": {
      "needs_background": "light"
     },
     "output_type": "display_data"
    }
   ],
   "source": [
    "plt.plot(H,w)\n",
    "plt.xlabel('H=1/p')\n",
    "plt.ylabel('W(\\sigma_t,T,L,K,\\pi)')\n",
    "plt.annotate('Expected', xy=(0.5, 0), xytext=(0.5, 1.5))#,arrowprops=dict(facecolor='black', shrink=0.05))\n",
    "plt.annotate('Cont-Das', xy=(0.56, 0), xytext=(0.56, 1))\n",
    "plt.annotate('Our', xy=(0.4851486301343279, 0), xytext=(0.4851486301343279, 1))\n",
    "#plt.axhline(y=0, xmin=0.1, xmax=0.9)\n",
    "plt.title('Hurst exponent for instantaneous expOU: H=0.4851, p=2.06')\n",
    "plt.axis([0.3, 0.6, -0.1, 3])\n",
    "plt.axvline(x=0.4851486301343279, ymin=0.0, ymax=7)\n",
    "plt.vlines(x=0.5, ymin=0, ymax=7,colors='r')\n",
    "plt.vlines(x=0.56, ymin=0, ymax=7,colors='g')\n",
    "plt.show()\n",
    "#data\n",
    "#P=np.linspace(1,10,100)\n",
    "#ws=np.zeros(len(P))\n",
    "#for p in range(len(P)):\n",
    "#    ws[p]=np.linalg.norm(em.W_1(s[1],23398,300,P[p]))**2\n",
    "#min(ws)\n",
    "#data=pd.DataFrame(ws,index=P,columns=['Ws()'])\n",
    "#data[ data['Ws()'] <= min(ws) ]"
   ]
  },
  {
   "cell_type": "code",
   "execution_count": 13,
   "metadata": {},
   "outputs": [],
   "source": [
    "#logify = lambda arr: np.log(arr)\n",
    "#dataOU.apply(logify).plot()\n",
    "#plt.show()\n",
    "#datasigOU.apply(logify).plot()\n",
    "#plt.show()"
   ]
  },
  {
   "cell_type": "code",
   "execution_count": 14,
   "metadata": {},
   "outputs": [],
   "source": [
    "#plt.semilogx(dataOU)\n",
    "##invert_xaxis()\n",
    "##plt.invert_yaxis()\n",
    "#plt.show()\n",
    "#plt.semilogx(datasigOU)\n",
    "#plt.show()"
   ]
  },
  {
   "cell_type": "code",
   "execution_count": 15,
   "metadata": {},
   "outputs": [],
   "source": [
    "#logw=np.zeros(len(w))\n",
    "#hurst=np.zeros(len(P))\n",
    "#for i in range(len(w)):\n",
    "#    logw[i]=np.log(w[i])\n",
    "#for i in range(len(P)):\n",
    "#    hurst[i]=1/P[i]\n",
    "#datatoplot=pd.DataFrame(logw,index=hurst,columns=['log(W)'])\n",
    "#datatoplot.describe()"
   ]
  }
 ],
 "metadata": {
  "interpreter": {
   "hash": "597e2b791014bf3f975e304e1e72922cb6b9245e0453d34e2c818a7120fc527f"
  },
  "kernelspec": {
   "display_name": "Python 3.9.7 ('base')",
   "language": "python",
   "name": "python3"
  },
  "language_info": {
   "codemirror_mode": {
    "name": "ipython",
    "version": 3
   },
   "file_extension": ".py",
   "mimetype": "text/x-python",
   "name": "python",
   "nbconvert_exporter": "python",
   "pygments_lexer": "ipython3",
   "version": "3.9.7"
  },
  "orig_nbformat": 4
 },
 "nbformat": 4,
 "nbformat_minor": 2
}
